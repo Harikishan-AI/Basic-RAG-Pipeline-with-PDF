{
 "cells": [
  {
   "cell_type": "code",
   "execution_count": 1,
   "id": "2f695bae",
   "metadata": {},
   "outputs": [
    {
     "data": {
      "text/plain": [
       "True"
      ]
     },
     "execution_count": 1,
     "metadata": {},
     "output_type": "execute_result"
    }
   ],
   "source": [
    "from dotenv import load_dotenv\n",
    "import os\n",
    "load_dotenv()"
   ]
  },
  {
   "cell_type": "code",
   "execution_count": 3,
   "id": "b543836c",
   "metadata": {},
   "outputs": [],
   "source": [
    "os.environ[\"GOOGLE_API_KEY\"] = os.getenv(\"GOOGLE_API_KEY\")"
   ]
  },
  {
   "cell_type": "code",
   "execution_count": 11,
   "id": "50a535d3",
   "metadata": {},
   "outputs": [],
   "source": [
    "from langchain_google_genai import ChatGoogleGenerativeAI\n",
    "\n",
    "llm = ChatGoogleGenerativeAI(\n",
    "    model=\"gemini-2.0-flash\",\n",
    "    temperature=0.7,\n",
    ")"
   ]
  },
  {
   "cell_type": "code",
   "execution_count": 12,
   "id": "8f77fd0e",
   "metadata": {},
   "outputs": [
    {
     "name": "stdout",
     "output_type": "stream",
     "text": [
      "ML stands for **Machine Learning**.\n",
      "\n",
      "In essence, Machine Learning is a field of computer science that gives computers the ability to learn from data without being explicitly programmed.  Instead of writing code that tells a computer exactly what to do, you feed it data, and the machine learning algorithm learns patterns and relationships within that data.  It then uses these learned patterns to make predictions or decisions on new, unseen data.\n",
      "\n",
      "Here's a breakdown of key aspects:\n",
      "\n",
      "*   **Learning from Data:** The core of ML is the ability to improve performance on a specific task by learning from experience, which comes in the form of data. This data can be anything from numbers and text to images and videos.\n",
      "\n",
      "*   **Algorithms:** ML uses various algorithms to learn from data. Some common examples include:\n",
      "    *   **Linear Regression:**  Predicting a continuous output based on linear relationships.\n",
      "    *   **Logistic Regression:** Predicting a categorical output (e.g., yes/no, spam/not spam).\n",
      "    *   **Decision Trees:**  Creating a tree-like structure to classify or predict outcomes.\n",
      "    *   **Support Vector Machines (SVMs):** Finding the best boundary to separate data into different classes.\n",
      "    *   **Neural Networks:** Complex algorithms inspired by the structure of the human brain, used for various tasks like image recognition and natural language processing.\n",
      "    *   **Clustering Algorithms (e.g., k-means):** Grouping similar data points together.\n",
      "\n",
      "*   **Predictions and Decisions:** The goal of ML is often to make predictions about future events or to make decisions based on the learned patterns.  For example, predicting whether a customer will click on an ad, identifying spam emails, or recommending movies based on past viewing history.\n",
      "\n",
      "*   **Types of Machine Learning:**  ML is often categorized into different types:\n",
      "    *   **Supervised Learning:** The algorithm learns from labeled data (data with known correct answers).  The goal is to predict the correct answer for new, unlabeled data. Examples: image classification, spam detection.\n",
      "    *   **Unsupervised Learning:** The algorithm learns from unlabeled data. The goal is to find patterns and structures in the data. Examples: customer segmentation, anomaly detection.\n",
      "    *   **Reinforcement Learning:** The algorithm learns by interacting with an environment and receiving rewards or penalties for its actions.  The goal is to learn a policy that maximizes the cumulative reward. Examples: game playing, robotics.\n",
      "    *   **Semi-Supervised Learning:** A combination of supervised and unsupervised learning, where the algorithm learns from a dataset that contains both labeled and unlabeled data.\n",
      "\n",
      "*   **Applications:** Machine learning is used in a wide range of applications, including:\n",
      "    *   **Recommendation systems:** (e.g., Netflix, Amazon)\n",
      "    *   **Spam filtering:** (e.g., Gmail)\n",
      "    *   **Fraud detection:** (e.g., credit card companies)\n",
      "    *   **Medical diagnosis:** (e.g., cancer detection)\n",
      "    *   **Self-driving cars:**\n",
      "    *   **Natural language processing:** (e.g., chatbots, translation)\n",
      "    *   **Image recognition:** (e.g., facial recognition)\n",
      "\n",
      "**In simpler terms:**\n",
      "\n",
      "Imagine you want to teach a computer to recognize cats in pictures. Instead of writing code that describes what a cat looks like (e.g., pointy ears, whiskers, tail), you show the computer thousands of pictures of cats and thousands of pictures of things that are *not* cats. The machine learning algorithm analyzes these pictures and learns the patterns and features that distinguish cats from other objects.  Once it has learned these patterns, it can then identify cats in new pictures that it has never seen before.\n",
      "\n",
      "**Key Benefits of Machine Learning:**\n",
      "\n",
      "*   **Automation:** Automates tasks that would otherwise require human intervention.\n",
      "*   **Improved Accuracy:** Can often achieve higher accuracy than humans in certain tasks.\n",
      "*   **Scalability:** Can handle large datasets and complex problems.\n",
      "*   **Adaptability:** Can adapt to changing data and environments.\n",
      "*   **Discovery of Insights:** Can uncover hidden patterns and insights in data.\n",
      "\n",
      "Machine learning is a rapidly evolving field with the potential to transform many aspects of our lives. As data becomes more readily available and computing power increases, machine learning will continue to play an increasingly important role in the future.\n"
     ]
    }
   ],
   "source": [
    "# Basic text generation\n",
    "response = llm.invoke(\"What is ML?\")\n",
    "print(response.content)"
   ]
  },
  {
   "cell_type": "code",
   "execution_count": null,
   "id": "08eea1f9",
   "metadata": {},
   "outputs": [],
   "source": []
  }
 ],
 "metadata": {
  "kernelspec": {
   "display_name": "venv-rag (3.11.5)",
   "language": "python",
   "name": "python3"
  },
  "language_info": {
   "codemirror_mode": {
    "name": "ipython",
    "version": 3
   },
   "file_extension": ".py",
   "mimetype": "text/x-python",
   "name": "python",
   "nbconvert_exporter": "python",
   "pygments_lexer": "ipython3",
   "version": "3.11.5"
  }
 },
 "nbformat": 4,
 "nbformat_minor": 5
}
